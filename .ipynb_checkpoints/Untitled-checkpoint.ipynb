{
 "cells": [
  {
   "cell_type": "code",
   "execution_count": 36,
   "id": "56e4c84f-2c9f-4451-8b95-a2b5a58921ab",
   "metadata": {},
   "outputs": [],
   "source": [
    "import requests\n",
    "def get_steam_reviews(api_key, app_id):\n",
    "    url = f\"https://store.steampowered.com/appreviews/{app_id}?json=1&filter=recent&language=all&review_type=all&purchase_type=all&num_per_page=1000\"\n",
    "    headers = {\n",
    "        \"User-Agent\": \"Mozilla/5.0 (Windows NT 10.0; Win64; x64) AppleWebKit/537.36 (KHTML, like Gecko) Chrome/91.0.4472.124 Safari/537.36\",\n",
    "        \"Accept-Language\": \"en-US,en;q=0.9\",\n",
    "        \"Accept-Encoding\": \"gzip, deflate\",\n",
    "        \"Accept\": \"application/json\"\n",
    "    }\n",
    "    params = {\n",
    "        \"key\": api_key\n",
    "    }\n",
    "\n",
    "    response = requests.get(url, headers=headers, params=params)\n",
    "    data = response.json()\n",
    "\n",
    "    if data.get('success'):\n",
    "        reviews = [review['review'] for review in data['reviews']]\n",
    "        return reviews\n",
    "    else:\n",
    "        print(\"Failed to fetch reviews:\", data.get('error'))\n",
    "\n",
    "api_key = '733287C02DF0287036428850DA3D4DC3'\n",
    "app_id = '306130'\n",
    "reviews = get_steam_reviews(api_key, app_id)\n",
    "for review in reviews:\n",
    "    print(review)"
   ]
  }
 ],
 "metadata": {
  "kernelspec": {
   "display_name": "Python 3 (ipykernel)",
   "language": "python",
   "name": "python3"
  },
  "language_info": {
   "codemirror_mode": {
    "name": "ipython",
    "version": 3
   },
   "file_extension": ".py",
   "mimetype": "text/x-python",
   "name": "python",
   "nbconvert_exporter": "python",
   "pygments_lexer": "ipython3",
   "version": "3.9.7"
  }
 },
 "nbformat": 4,
 "nbformat_minor": 5
}
